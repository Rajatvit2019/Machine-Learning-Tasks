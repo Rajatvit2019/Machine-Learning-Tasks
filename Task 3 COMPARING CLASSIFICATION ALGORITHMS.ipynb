{
 "cells": [
  {
   "cell_type": "code",
   "execution_count": 1,
   "id": "5a8e4ecf",
   "metadata": {},
   "outputs": [],
   "source": [
    "import numpy as np #Linear Algebra\n",
    "import pandas as pd #Data Processing"
   ]
  },
  {
   "cell_type": "code",
   "execution_count": 2,
   "id": "c53bbce6",
   "metadata": {},
   "outputs": [],
   "source": [
    "#Show all columns and rows to understand the Dataset\n",
    "pd.set_option('display.max_columns', None)\n",
    "pd.set_option('display.max_rows', None)"
   ]
  },
  {
   "cell_type": "code",
   "execution_count": 4,
   "id": "85101153",
   "metadata": {},
   "outputs": [],
   "source": [
    "#Statistical and Visualization libraries\n",
    "import matplotlib.pyplot as plt\n",
    "import seaborn as sns\n",
    "%matplotlib inline"
   ]
  },
  {
   "cell_type": "code",
   "execution_count": 5,
   "id": "d81c7540",
   "metadata": {},
   "outputs": [],
   "source": [
    "# Importing some preprocessing libraries\n",
    "from sklearn.preprocessing import LabelEncoder\n",
    "from sklearn.model_selection import train_test_split\n",
    "from sklearn.preprocessing import StandardScaler\n",
    "# Importing all models to be used\n",
    "from sklearn.linear_model import LogisticRegression\n",
    "from sklearn.neighbors import KNeighborsClassifier\n",
    "from sklearn.svm import SVC\n",
    "from sklearn.naive_bayes import GaussianNB\n",
    "from sklearn.tree import DecisionTreeClassifier\n",
    "from sklearn.ensemble import RandomForestClassifier"
   ]
  },
  {
   "cell_type": "code",
   "execution_count": 7,
   "id": "72143ca7",
   "metadata": {},
   "outputs": [],
   "source": [
    "# Importing libraries to check model metrics and also K fold cross validation score\n",
    "import sklearn.metrics as metrics\n",
    "from sklearn.metrics import f1_score\n",
    "from sklearn.metrics import classification_report,confusion_matrix\n",
    "from sklearn.metrics import precision_score\n",
    "from sklearn.metrics import recall_score\n",
    "from sklearn.model_selection import cross_val_score"
   ]
  },
  {
   "cell_type": "code",
   "execution_count": 8,
   "id": "3c6a1ab4",
   "metadata": {},
   "outputs": [
    {
     "data": {
      "text/plain": [
       "(400, 4)"
      ]
     },
     "execution_count": 8,
     "metadata": {},
     "output_type": "execute_result"
    }
   ],
   "source": [
    "#Reading Dataset and checking top 5 entries\n",
    "df = pd.read_csv(\"D:\\Data Science\\Datasets\\iphone_purchase_records.csv\")\n",
    "df.head()\n",
    "#rows and columns\n",
    "df.shape"
   ]
  },
  {
   "cell_type": "code",
   "execution_count": 9,
   "id": "5fb685f8",
   "metadata": {},
   "outputs": [
    {
     "name": "stdout",
     "output_type": "stream",
     "text": [
      "<class 'pandas.core.frame.DataFrame'>\n",
      "RangeIndex: 400 entries, 0 to 399\n",
      "Data columns (total 4 columns):\n",
      " #   Column           Non-Null Count  Dtype \n",
      "---  ------           --------------  ----- \n",
      " 0   Gender           400 non-null    object\n",
      " 1   Age              400 non-null    int64 \n",
      " 2   Salary           400 non-null    int64 \n",
      " 3   Purchase Iphone  400 non-null    int64 \n",
      "dtypes: int64(3), object(1)\n",
      "memory usage: 11.0+ KB\n"
     ]
    },
    {
     "data": {
      "text/html": [
       "<div>\n",
       "<style scoped>\n",
       "    .dataframe tbody tr th:only-of-type {\n",
       "        vertical-align: middle;\n",
       "    }\n",
       "\n",
       "    .dataframe tbody tr th {\n",
       "        vertical-align: top;\n",
       "    }\n",
       "\n",
       "    .dataframe thead th {\n",
       "        text-align: right;\n",
       "    }\n",
       "</style>\n",
       "<table border=\"1\" class=\"dataframe\">\n",
       "  <thead>\n",
       "    <tr style=\"text-align: right;\">\n",
       "      <th></th>\n",
       "      <th>Age</th>\n",
       "      <th>Salary</th>\n",
       "      <th>Purchase Iphone</th>\n",
       "    </tr>\n",
       "  </thead>\n",
       "  <tbody>\n",
       "    <tr>\n",
       "      <th>count</th>\n",
       "      <td>400.000000</td>\n",
       "      <td>400.000000</td>\n",
       "      <td>400.000000</td>\n",
       "    </tr>\n",
       "    <tr>\n",
       "      <th>mean</th>\n",
       "      <td>37.655000</td>\n",
       "      <td>69742.500000</td>\n",
       "      <td>0.357500</td>\n",
       "    </tr>\n",
       "    <tr>\n",
       "      <th>std</th>\n",
       "      <td>10.482877</td>\n",
       "      <td>34096.960282</td>\n",
       "      <td>0.479864</td>\n",
       "    </tr>\n",
       "    <tr>\n",
       "      <th>min</th>\n",
       "      <td>18.000000</td>\n",
       "      <td>15000.000000</td>\n",
       "      <td>0.000000</td>\n",
       "    </tr>\n",
       "    <tr>\n",
       "      <th>25%</th>\n",
       "      <td>29.750000</td>\n",
       "      <td>43000.000000</td>\n",
       "      <td>0.000000</td>\n",
       "    </tr>\n",
       "    <tr>\n",
       "      <th>50%</th>\n",
       "      <td>37.000000</td>\n",
       "      <td>70000.000000</td>\n",
       "      <td>0.000000</td>\n",
       "    </tr>\n",
       "    <tr>\n",
       "      <th>75%</th>\n",
       "      <td>46.000000</td>\n",
       "      <td>88000.000000</td>\n",
       "      <td>1.000000</td>\n",
       "    </tr>\n",
       "    <tr>\n",
       "      <th>max</th>\n",
       "      <td>60.000000</td>\n",
       "      <td>150000.000000</td>\n",
       "      <td>1.000000</td>\n",
       "    </tr>\n",
       "  </tbody>\n",
       "</table>\n",
       "</div>"
      ],
      "text/plain": [
       "              Age         Salary  Purchase Iphone\n",
       "count  400.000000     400.000000       400.000000\n",
       "mean    37.655000   69742.500000         0.357500\n",
       "std     10.482877   34096.960282         0.479864\n",
       "min     18.000000   15000.000000         0.000000\n",
       "25%     29.750000   43000.000000         0.000000\n",
       "50%     37.000000   70000.000000         0.000000\n",
       "75%     46.000000   88000.000000         1.000000\n",
       "max     60.000000  150000.000000         1.000000"
      ]
     },
     "execution_count": 9,
     "metadata": {},
     "output_type": "execute_result"
    }
   ],
   "source": [
    "#Checking the datatypes of all features\n",
    "df.info()\n",
    "#Finding total number of null values\n",
    "df.isna().sum()\n",
    "#Generate descriptive statistics\n",
    "df.describe()"
   ]
  },
  {
   "cell_type": "code",
   "execution_count": 11,
   "id": "e789d716",
   "metadata": {},
   "outputs": [],
   "source": [
    "# Making last column (Purchase Iphone) as output 'y' and the rest columns as input 'X'\n",
    "X = df.iloc[:,:-1].values\n",
    "y = df.iloc[:, 3].values"
   ]
  },
  {
   "cell_type": "code",
   "execution_count": 12,
   "id": "0ea59a7b",
   "metadata": {},
   "outputs": [],
   "source": [
    "# converting gender to number\n",
    "labelEncoder_gender = LabelEncoder()\n",
    "X[:,0] = labelEncoder_gender.fit_transform(X[:,0])\n",
    "\n",
    "X_train, X_test, y_train, y_test = train_test_split(X, y, test_size=0.25, random_state=0)\n"
   ]
  },
  {
   "cell_type": "code",
   "execution_count": 13,
   "id": "ce125a9f",
   "metadata": {},
   "outputs": [],
   "source": [
    "#feature scaling\n",
    "sc = StandardScaler()\n",
    "X_train = sc.fit_transform(X_train)\n",
    "X_test = sc.transform(X_test)"
   ]
  },
  {
   "cell_type": "markdown",
   "id": "4b58211d",
   "metadata": {},
   "source": [
    "### Logistic Regression"
   ]
  },
  {
   "cell_type": "code",
   "execution_count": 14,
   "id": "80136298",
   "metadata": {},
   "outputs": [
    {
     "data": {
      "text/plain": [
       "array([0, 0, 0, 0, 0, 0, 0, 1, 0, 1, 0, 0, 0, 0, 0, 0, 0, 0, 1, 0, 0, 1,\n",
       "       0, 1, 0, 1, 0, 0, 0, 0, 0, 0, 1, 0, 0, 0, 0, 0, 0, 1, 0, 0, 0, 0,\n",
       "       1, 0, 0, 1, 0, 1, 1, 0, 0, 0, 1, 0, 0, 0, 1, 0, 0, 1, 0, 0, 0, 1,\n",
       "       0, 0, 0, 0, 1, 0, 0, 0, 0, 0, 1, 0, 1, 1, 1, 1, 0, 0, 1, 1, 0, 1,\n",
       "       0, 0, 0, 1, 0, 0, 0, 0, 0, 1, 1, 1], dtype=int64)"
      ]
     },
     "execution_count": 14,
     "metadata": {},
     "output_type": "execute_result"
    }
   ],
   "source": [
    "lr = LogisticRegression(random_state=0, solver=\"liblinear\")\n",
    "lr.fit(X_train, y_train) #Training the model on training dataset\n",
    "y_pred_lr = lr.predict(X_test) #Predicting values of the test dataset\n",
    "y_pred_lr #Predicted values for logistic regression"
   ]
  },
  {
   "cell_type": "code",
   "execution_count": 16,
   "id": "aabef9ca",
   "metadata": {},
   "outputs": [
    {
     "name": "stdout",
     "output_type": "stream",
     "text": [
      "[0.9  0.95 0.85 0.85 0.8 ]\n",
      "Logistic Regression model has 0.87 accuracy with a standard deviation of 0.05\n"
     ]
    }
   ],
   "source": [
    "# Finding K fold cross validation score for Logistic Regression Model\n",
    "scores_lr = cross_val_score(lr, X_test, y_test,cv = 5,scoring='accuracy')\n",
    "print(scores_lr)\n",
    "print(\"Logistic Regression model has %0.2f accuracy with a standard deviation of %0.2f\" % (scores_lr.mean(), scores_lr.std()))"
   ]
  },
  {
   "cell_type": "code",
   "execution_count": 17,
   "id": "9db927e9",
   "metadata": {},
   "outputs": [
    {
     "name": "stdout",
     "output_type": "stream",
     "text": [
      "F1 score: 0.893855\n",
      "              precision    recall  f1-score   support\n",
      "\n",
      "           0       0.92      0.96      0.94        68\n",
      "           1       0.90      0.81      0.85        32\n",
      "\n",
      "    accuracy                           0.91       100\n",
      "   macro avg       0.91      0.88      0.89       100\n",
      "weighted avg       0.91      0.91      0.91       100\n",
      "\n",
      "precision score: 0.906022\n",
      "recall score: 0.884191\n",
      "Accuracy:0.910000\n"
     ]
    },
    {
     "data": {
      "text/plain": [
       "<AxesSubplot:>"
      ]
     },
     "execution_count": 17,
     "metadata": {},
     "output_type": "execute_result"
    },
    {
     "data": {
      "image/png": "[encoded data removed]",
      "text/plain": [
       "<Figure size 432x288 with 2 Axes>"
      ]
     },
     "metadata": {
      "needs_background": "light"
     },
     "output_type": "display_data"
    }
   ],
   "source": [
    "# Model metrics - other form of checking model quality\n",
    "f1_score_lr = metrics.f1_score(y_test,y_pred_lr,average='macro')\n",
    "print('F1 score: {0:f}'.format (f1_score_lr))\n",
    "print(classification_report(y_test,y_pred_lr))\n",
    "slr = precision_score(y_test, y_pred_lr, average='macro')\n",
    "print('precision score: {0:f}'.format (slr))\n",
    "s_lr = recall_score(y_test,y_pred_lr, average='macro')\n",
    "print('recall score: {0:f}'.format (s_lr))\n",
    "score_lr = metrics.accuracy_score(y_test,lr.predict(X_test))\n",
    "print('Accuracy:{0:f}'.format(score_lr))\n",
    "sns.heatmap(confusion_matrix(y_test,y_pred_lr),annot=True)"
   ]
  },
  {
   "cell_type": "markdown",
   "id": "a36bce42",
   "metadata": {},
   "source": [
    "### K Nearest Neighbour"
   ]
  },
  {
   "cell_type": "code",
   "execution_count": 18,
   "id": "4a6d99fe",
   "metadata": {},
   "outputs": [
    {
     "data": {
      "text/plain": [
       "array([0, 0, 0, 0, 0, 0, 0, 1, 0, 1, 0, 0, 0, 0, 0, 1, 0, 0, 1, 0, 0, 1,\n",
       "       0, 1, 0, 1, 0, 0, 0, 0, 0, 0, 1, 0, 0, 0, 0, 0, 0, 1, 0, 0, 0, 0,\n",
       "       1, 0, 0, 1, 0, 1, 1, 0, 0, 1, 1, 1, 0, 0, 1, 0, 0, 1, 0, 1, 0, 1,\n",
       "       0, 0, 0, 0, 1, 0, 0, 1, 0, 0, 0, 0, 1, 1, 1, 1, 0, 0, 1, 0, 0, 1,\n",
       "       1, 0, 0, 1, 0, 0, 0, 0, 0, 1, 1, 1], dtype=int64)"
      ]
     },
     "execution_count": 18,
     "metadata": {},
     "output_type": "execute_result"
    }
   ],
   "source": [
    "knn = KNeighborsClassifier(n_neighbors=15)\n",
    "knn.fit(X_train,y_train) #Training the model on training dataset\n",
    "y_pred_knn = knn.predict(X_test) #Predicting values of the test dataset\n",
    "y_pred_knn #Predicted values for KNN"
   ]
  },
  {
   "cell_type": "code",
   "execution_count": 19,
   "id": "17d7a8f8",
   "metadata": {},
   "outputs": [
    {
     "name": "stdout",
     "output_type": "stream",
     "text": [
      "[0.85 0.9  0.85 0.75 0.7 ]\n",
      "KNN model has 0.81 accuracy with a standard deviation of 0.07\n"
     ]
    }
   ],
   "source": [
    "# Finding K fold cross validation score for KNN Model\n",
    "scores_knn = cross_val_score(knn, X_test, y_test,cv = 5,scoring='accuracy')\n",
    "print(scores_knn)\n",
    "print(\"KNN model has %0.2f accuracy with a standard deviation of %0.2f\"% (scores_knn.mean(), scores_knn.std()))\n"
   ]
  },
  {
   "cell_type": "code",
   "execution_count": 20,
   "id": "37a9db04",
   "metadata": {},
   "outputs": [
    {
     "name": "stdout",
     "output_type": "stream",
     "text": [
      "F1 score: 0.920228\n",
      "              precision    recall  f1-score   support\n",
      "\n",
      "           0       0.96      0.94      0.95        68\n",
      "           1       0.88      0.91      0.89        32\n",
      "\n",
      "    accuracy                           0.93       100\n",
      "   macro avg       0.92      0.92      0.92       100\n",
      "weighted avg       0.93      0.93      0.93       100\n",
      "\n",
      "precision score: 0.917006\n",
      "recall score: 0.923713\n",
      "Accuracy:0.930000\n"
     ]
    },
    {
     "data": {
      "text/plain": [
       "<AxesSubplot:>"
      ]
     },
     "execution_count": 20,
     "metadata": {},
     "output_type": "execute_result"
    },
    {
     "data": {
      "image/png": "[encoded data removed]",
      "text/plain": [
       "<Figure size 432x288 with 2 Axes>"
      ]
     },
     "metadata": {
      "needs_background": "light"
     },
     "output_type": "display_data"
    }
   ],
   "source": [
    "# Model metrics - other form of checking model quality\n",
    "f1_score_knn = metrics.f1_score(y_test,y_pred_knn,average='macro')\n",
    "print('F1 score: {0:f}'.format (f1_score_knn))\n",
    "print(classification_report(y_test,y_pred_knn))\n",
    "sknn = precision_score(y_test, y_pred_knn, average='macro')\n",
    "print('precision score: {0:f}'.format (sknn))\n",
    "s_knn = recall_score(y_test,y_pred_knn, average='macro')\n",
    "print('recall score: {0:f}'.format (s_knn))\n",
    "score_knn = metrics.accuracy_score(y_test,knn.predict(X_test))\n",
    "print('Accuracy:{0:f}'.format(score_knn))\n",
    "sns.heatmap(confusion_matrix(y_test,y_pred_knn),annot=True)"
   ]
  },
  {
   "cell_type": "markdown",
   "id": "05c8743e",
   "metadata": {},
   "source": [
    "### Random Forest"
   ]
  },
  {
   "cell_type": "code",
   "execution_count": 21,
   "id": "34f7cc83",
   "metadata": {},
   "outputs": [
    {
     "data": {
      "text/plain": [
       "array([0, 0, 0, 0, 0, 0, 0, 1, 0, 1, 0, 0, 0, 0, 0, 1, 0, 0, 1, 0, 0, 1,\n",
       "       0, 1, 0, 1, 0, 0, 0, 0, 0, 0, 1, 0, 0, 0, 0, 0, 0, 1, 0, 0, 0, 0,\n",
       "       1, 0, 0, 1, 0, 1, 1, 0, 0, 1, 1, 1, 0, 0, 1, 0, 0, 1, 0, 1, 0, 1,\n",
       "       0, 0, 0, 0, 1, 0, 0, 1, 0, 0, 0, 0, 1, 1, 1, 1, 0, 0, 1, 0, 0, 1,\n",
       "       1, 0, 0, 1, 0, 0, 0, 1, 0, 1, 1, 1], dtype=int64)"
      ]
     },
     "execution_count": 21,
     "metadata": {},
     "output_type": "execute_result"
    }
   ],
   "source": [
    "rf = RandomForestClassifier(n_estimators=70, oob_score=True, n_jobs=-1, min_samples_leaf=30)\n",
    "rf.fit(X_train, y_train) #Training the model on training dataset\n",
    "y_pred_rf = rf.predict(X_test) #Predicting values of the test dataset\n",
    "y_pred_rf #Predicted values for Random Forest"
   ]
  },
  {
   "cell_type": "code",
   "execution_count": 23,
   "id": "e52f961b",
   "metadata": {},
   "outputs": [
    {
     "name": "stdout",
     "output_type": "stream",
     "text": [
      "[0.7  0.7  0.7  0.65 0.65]\n",
      "Random Forest model has 0.68 accuracy with a standard deviationof 0.02\n"
     ]
    }
   ],
   "source": [
    "# Finding K fold cross validation score for Random Forest Model\n",
    "scores_rf = cross_val_score(rf, X_test, y_test,cv = 5,scoring='accuracy')\n",
    "print(scores_rf)\n",
    "print(\"Random Forest model has %0.2f accuracy with a standard deviationof %0.2f\" % (scores_rf.mean(), scores_rf.std()))"
   ]
  },
  {
   "cell_type": "code",
   "execution_count": 24,
   "id": "69adb369",
   "metadata": {},
   "outputs": [
    {
     "name": "stdout",
     "output_type": "stream",
     "text": [
      "F1 score: 0.932157\n",
      "              precision    recall  f1-score   support\n",
      "\n",
      "           0       0.97      0.94      0.96        68\n",
      "           1       0.88      0.94      0.91        32\n",
      "\n",
      "    accuracy                           0.94       100\n",
      "   macro avg       0.93      0.94      0.93       100\n",
      "weighted avg       0.94      0.94      0.94       100\n",
      "\n",
      "precision score: 0.926025\n",
      "recall score: 0.939338\n",
      "Accuracy:0.940000\n"
     ]
    },
    {
     "data": {
      "text/plain": [
       "<AxesSubplot:>"
      ]
     },
     "execution_count": 24,
     "metadata": {},
     "output_type": "execute_result"
    },
    {
     "data": {
      "image/png": "[encoded data removed]",
      "text/plain": [
       "<Figure size 432x288 with 2 Axes>"
      ]
     },
     "metadata": {
      "needs_background": "light"
     },
     "output_type": "display_data"
    }
   ],
   "source": [
    "#Model metrics - other form of checking model quality\n",
    "f1_score_rf = metrics.f1_score(y_test,y_pred_rf,average='macro')\n",
    "print('F1 score: {0:f}'.format (f1_score_rf))\n",
    "print(classification_report(y_test,y_pred_rf))\n",
    "srf = precision_score(y_test, y_pred_rf, average='macro')\n",
    "print('precision score: {0:f}'.format (srf))\n",
    "s_rf = recall_score(y_test,y_pred_rf, average='macro')\n",
    "print('recall score: {0:f}'.format (s_rf))\n",
    "score_rf = metrics.accuracy_score(y_test,rf.predict(X_test))\n",
    "print('Accuracy:{0:f}'.format(score_rf))\n",
    "sns.heatmap(confusion_matrix(y_test,y_pred_rf),annot=True)"
   ]
  },
  {
   "cell_type": "markdown",
   "id": "e4a5f775",
   "metadata": {},
   "source": [
    "### K fold cross Validation"
   ]
  },
  {
   "cell_type": "code",
   "execution_count": 25,
   "id": "17e8b406",
   "metadata": {},
   "outputs": [
    {
     "data": {
      "image/png": "[encoded data removed]",
      "text/plain": [
       "<Figure size 720x432 with 1 Axes>"
      ]
     },
     "metadata": {
      "needs_background": "light"
     },
     "output_type": "display_data"
    }
   ],
   "source": [
    "# Comparing K fold cross validation score of all the 6 models.\n",
    "# Plotting/Visual Comparison makes it easier to compare\n",
    "algo = ['LR','KNN','RF']\n",
    "score = [scores_lr.mean(), scores_knn.mean(), scores_rf.mean()]\n",
    "plt.figure(figsize=(10,6))\n",
    "plt.bar(algo,score,width=0.5)\n",
    "plt.title('Evaluating accuracies')\n",
    "plt.xlabel('Models')\n",
    "plt.ylabel('Accuracy score')\n",
    "plt.ylim(0,1)\n",
    "plt.show()\n"
   ]
  },
  {
   "cell_type": "code",
   "execution_count": null,
   "id": "dac0ab9b",
   "metadata": {},
   "outputs": [],
   "source": []
  }
 ],
 "metadata": {
  "kernelspec": {
   "display_name": "Python 3 (ipykernel)",
   "language": "python",
   "name": "python3"
  },
  "language_info": {
   "codemirror_mode": {
    "name": "ipython",
    "version": 3
   },
   "file_extension": ".py",
   "mimetype": "text/x-python",
   "name": "python",
   "nbconvert_exporter": "python",
   "pygments_lexer": "ipython3",
   "version": "3.8.3"
  }
 },
 "nbformat": 4,
 "nbformat_minor": 5
}
