{
 "cells": [
  {
   "cell_type": "code",
   "execution_count": 1,
   "id": "7b52f760",
   "metadata": {},
   "outputs": [],
   "source": [
    "import pandas as pd\n",
    "import numpy as np\n",
    "import seaborn as sns\n",
    "import matplotlib.pyplot as plt\n",
    "%matplotlib inline\n",
    "import seaborn as sns\n",
    "import datetime as datetime"
   ]
  },
  {
   "cell_type": "code",
   "execution_count": 3,
   "id": "ac8c1a93",
   "metadata": {},
   "outputs": [
    {
     "data": {
      "text/html": [
       "<div>\n",
       "<style scoped>\n",
       "    .dataframe tbody tr th:only-of-type {\n",
       "        vertical-align: middle;\n",
       "    }\n",
       "\n",
       "    .dataframe tbody tr th {\n",
       "        vertical-align: top;\n",
       "    }\n",
       "\n",
       "    .dataframe thead th {\n",
       "        text-align: right;\n",
       "    }\n",
       "</style>\n",
       "<table border=\"1\" class=\"dataframe\">\n",
       "  <thead>\n",
       "    <tr style=\"text-align: right;\">\n",
       "      <th></th>\n",
       "      <th>Date</th>\n",
       "      <th>NO2</th>\n",
       "      <th>CO</th>\n",
       "      <th>O3</th>\n",
       "      <th>PM2.5</th>\n",
       "      <th>SO2</th>\n",
       "      <th>AQI Value</th>\n",
       "      <th>WIND</th>\n",
       "      <th>TEMP</th>\n",
       "      <th>PRESSURE</th>\n",
       "      <th>RH</th>\n",
       "    </tr>\n",
       "  </thead>\n",
       "  <tbody>\n",
       "    <tr>\n",
       "      <th>0</th>\n",
       "      <td>1/1/2010</td>\n",
       "      <td>38.16</td>\n",
       "      <td>0.704</td>\n",
       "      <td>0.03348</td>\n",
       "      <td>13.526531</td>\n",
       "      <td>7.7</td>\n",
       "      <td>54</td>\n",
       "      <td>5.854167</td>\n",
       "      <td>46.000000</td>\n",
       "      <td>1030.041667</td>\n",
       "      <td>65.916667</td>\n",
       "    </tr>\n",
       "    <tr>\n",
       "      <th>1</th>\n",
       "      <td>1/2/2010</td>\n",
       "      <td>37.10</td>\n",
       "      <td>0.880</td>\n",
       "      <td>0.03996</td>\n",
       "      <td>14.953061</td>\n",
       "      <td>14.7</td>\n",
       "      <td>57</td>\n",
       "      <td>2.970833</td>\n",
       "      <td>44.000000</td>\n",
       "      <td>1028.208333</td>\n",
       "      <td>63.291667</td>\n",
       "    </tr>\n",
       "    <tr>\n",
       "      <th>2</th>\n",
       "      <td>1/3/2010</td>\n",
       "      <td>38.16</td>\n",
       "      <td>0.440</td>\n",
       "      <td>0.02484</td>\n",
       "      <td>15.428571</td>\n",
       "      <td>21.7</td>\n",
       "      <td>58</td>\n",
       "      <td>3.579167</td>\n",
       "      <td>44.041667</td>\n",
       "      <td>1025.833333</td>\n",
       "      <td>69.625000</td>\n",
       "    </tr>\n",
       "    <tr>\n",
       "      <th>3</th>\n",
       "      <td>1/4/2010</td>\n",
       "      <td>26.50</td>\n",
       "      <td>0.440</td>\n",
       "      <td>0.03348</td>\n",
       "      <td>10.800000</td>\n",
       "      <td>32.9</td>\n",
       "      <td>47</td>\n",
       "      <td>6.891667</td>\n",
       "      <td>41.750000</td>\n",
       "      <td>1031.208333</td>\n",
       "      <td>60.166667</td>\n",
       "    </tr>\n",
       "    <tr>\n",
       "      <th>4</th>\n",
       "      <td>1/5/2010</td>\n",
       "      <td>45.58</td>\n",
       "      <td>0.616</td>\n",
       "      <td>0.03348</td>\n",
       "      <td>15.904082</td>\n",
       "      <td>34.3</td>\n",
       "      <td>59</td>\n",
       "      <td>2.233333</td>\n",
       "      <td>37.333333</td>\n",
       "      <td>1032.125000</td>\n",
       "      <td>59.916667</td>\n",
       "    </tr>\n",
       "  </tbody>\n",
       "</table>\n",
       "</div>"
      ],
      "text/plain": [
       "       Date    NO2     CO       O3      PM2.5   SO2   AQI Value      WIND  \\\n",
       "0  1/1/2010  38.16  0.704  0.03348  13.526531   7.7          54  5.854167   \n",
       "1  1/2/2010  37.10  0.880  0.03996  14.953061  14.7          57  2.970833   \n",
       "2  1/3/2010  38.16  0.440  0.02484  15.428571  21.7          58  3.579167   \n",
       "3  1/4/2010  26.50  0.440  0.03348  10.800000  32.9          47  6.891667   \n",
       "4  1/5/2010  45.58  0.616  0.03348  15.904082  34.3          59  2.233333   \n",
       "\n",
       "        TEMP     PRESSURE        RH   \n",
       "0  46.000000  1030.041667  65.916667  \n",
       "1  44.000000  1028.208333  63.291667  \n",
       "2  44.041667  1025.833333  69.625000  \n",
       "3  41.750000  1031.208333  60.166667  \n",
       "4  37.333333  1032.125000  59.916667  "
      ]
     },
     "execution_count": 3,
     "metadata": {},
     "output_type": "execute_result"
    }
   ],
   "source": [
    "#Reading Dataset and Checking top 5 entries\n",
    "data = pd.read_csv(\"D:\\Data Science\\Datasets\\Task 2 ML Data.csv\")\n",
    "data.head()"
   ]
  },
  {
   "cell_type": "code",
   "execution_count": 5,
   "id": "6153c560",
   "metadata": {},
   "outputs": [
    {
     "name": "stdout",
     "output_type": "stream",
     "text": [
      "<class 'pandas.core.frame.DataFrame'>\n",
      "RangeIndex: 365 entries, 0 to 364\n",
      "Data columns (total 11 columns):\n",
      " #   Column      Non-Null Count  Dtype  \n",
      "---  ------      --------------  -----  \n",
      " 0   Date        365 non-null    object \n",
      " 1   NO2         365 non-null    float64\n",
      " 2   CO          365 non-null    float64\n",
      " 3   O3          365 non-null    float64\n",
      " 4   PM2.5       365 non-null    float64\n",
      " 5   SO2         365 non-null    float64\n",
      " 6    AQI Value  365 non-null    int64  \n",
      " 7   WIND        365 non-null    float64\n",
      " 8   TEMP        365 non-null    float64\n",
      " 9   PRESSURE    365 non-null    float64\n",
      " 10  RH          365 non-null    float64\n",
      "dtypes: float64(9), int64(1), object(1)\n",
      "memory usage: 30.0+ KB\n",
      "\n"
     ]
    }
   ],
   "source": [
    "#Understanding rows and columns\n",
    "data.shape\n",
    "data.info()\n",
    "print ()"
   ]
  },
  {
   "cell_type": "code",
   "execution_count": 6,
   "id": "26b13ecd",
   "metadata": {},
   "outputs": [
    {
     "data": {
      "text/plain": [
       "Date          0\n",
       "NO2           0\n",
       "CO            0\n",
       "O3            0\n",
       "PM2.5         0\n",
       "SO2           0\n",
       " AQI Value    0\n",
       "WIND          0\n",
       "TEMP          0\n",
       "PRESSURE      0\n",
       "RH            0\n",
       "dtype: int64"
      ]
     },
     "execution_count": 6,
     "metadata": {},
     "output_type": "execute_result"
    }
   ],
   "source": [
    "# Null Values if any\n",
    "data.isna().sum()"
   ]
  },
  {
   "cell_type": "code",
   "execution_count": 8,
   "id": "f6f0f32e",
   "metadata": {},
   "outputs": [
    {
     "data": {
      "text/html": [
       "<div>\n",
       "<style scoped>\n",
       "    .dataframe tbody tr th:only-of-type {\n",
       "        vertical-align: middle;\n",
       "    }\n",
       "\n",
       "    .dataframe tbody tr th {\n",
       "        vertical-align: top;\n",
       "    }\n",
       "\n",
       "    .dataframe thead th {\n",
       "        text-align: right;\n",
       "    }\n",
       "</style>\n",
       "<table border=\"1\" class=\"dataframe\">\n",
       "  <thead>\n",
       "    <tr style=\"text-align: right;\">\n",
       "      <th></th>\n",
       "      <th>NO2</th>\n",
       "      <th>CO</th>\n",
       "      <th>O3</th>\n",
       "      <th>PM2.5</th>\n",
       "      <th>SO2</th>\n",
       "      <th>AQI Value</th>\n",
       "      <th>WIND</th>\n",
       "      <th>TEMP</th>\n",
       "      <th>PRESSURE</th>\n",
       "      <th>RH</th>\n",
       "    </tr>\n",
       "  </thead>\n",
       "  <tbody>\n",
       "    <tr>\n",
       "      <th>count</th>\n",
       "      <td>365.000000</td>\n",
       "      <td>365.000000</td>\n",
       "      <td>365.000000</td>\n",
       "      <td>365.000000</td>\n",
       "      <td>365.000000</td>\n",
       "      <td>365.000000</td>\n",
       "      <td>365.000000</td>\n",
       "      <td>365.000000</td>\n",
       "      <td>365.000000</td>\n",
       "      <td>365.000000</td>\n",
       "    </tr>\n",
       "    <tr>\n",
       "      <th>mean</th>\n",
       "      <td>34.949008</td>\n",
       "      <td>0.506301</td>\n",
       "      <td>0.046087</td>\n",
       "      <td>13.626266</td>\n",
       "      <td>13.476947</td>\n",
       "      <td>63.747945</td>\n",
       "      <td>4.538818</td>\n",
       "      <td>68.747160</td>\n",
       "      <td>1016.835502</td>\n",
       "      <td>67.835502</td>\n",
       "    </tr>\n",
       "    <tr>\n",
       "      <th>std</th>\n",
       "      <td>16.596962</td>\n",
       "      <td>0.294035</td>\n",
       "      <td>0.016503</td>\n",
       "      <td>4.748510</td>\n",
       "      <td>11.535875</td>\n",
       "      <td>28.919593</td>\n",
       "      <td>1.903770</td>\n",
       "      <td>14.415286</td>\n",
       "      <td>5.656928</td>\n",
       "      <td>11.991668</td>\n",
       "    </tr>\n",
       "    <tr>\n",
       "      <th>min</th>\n",
       "      <td>7.420000</td>\n",
       "      <td>0.176000</td>\n",
       "      <td>0.015120</td>\n",
       "      <td>4.560000</td>\n",
       "      <td>0.000000</td>\n",
       "      <td>25.000000</td>\n",
       "      <td>1.204167</td>\n",
       "      <td>28.125000</td>\n",
       "      <td>1000.666667</td>\n",
       "      <td>24.458333</td>\n",
       "    </tr>\n",
       "    <tr>\n",
       "      <th>25%</th>\n",
       "      <td>22.260000</td>\n",
       "      <td>0.264000</td>\n",
       "      <td>0.034560</td>\n",
       "      <td>10.320000</td>\n",
       "      <td>4.900000</td>\n",
       "      <td>45.000000</td>\n",
       "      <td>3.008333</td>\n",
       "      <td>57.375000</td>\n",
       "      <td>1013.416667</td>\n",
       "      <td>62.416667</td>\n",
       "    </tr>\n",
       "    <tr>\n",
       "      <th>50%</th>\n",
       "      <td>31.800000</td>\n",
       "      <td>0.440000</td>\n",
       "      <td>0.043200</td>\n",
       "      <td>13.051020</td>\n",
       "      <td>9.800000</td>\n",
       "      <td>56.000000</td>\n",
       "      <td>4.145833</td>\n",
       "      <td>71.250000</td>\n",
       "      <td>1016.250000</td>\n",
       "      <td>69.041667</td>\n",
       "    </tr>\n",
       "    <tr>\n",
       "      <th>75%</th>\n",
       "      <td>44.520000</td>\n",
       "      <td>0.528000</td>\n",
       "      <td>0.054000</td>\n",
       "      <td>16.379592</td>\n",
       "      <td>18.900000</td>\n",
       "      <td>67.000000</td>\n",
       "      <td>5.716667</td>\n",
       "      <td>81.583333</td>\n",
       "      <td>1020.083333</td>\n",
       "      <td>75.500000</td>\n",
       "    </tr>\n",
       "    <tr>\n",
       "      <th>max</th>\n",
       "      <td>111.571429</td>\n",
       "      <td>1.760000</td>\n",
       "      <td>0.096857</td>\n",
       "      <td>34.924490</td>\n",
       "      <td>72.612245</td>\n",
       "      <td>179.000000</td>\n",
       "      <td>11.883333</td>\n",
       "      <td>89.125000</td>\n",
       "      <td>1038.208333</td>\n",
       "      <td>92.458333</td>\n",
       "    </tr>\n",
       "  </tbody>\n",
       "</table>\n",
       "</div>"
      ],
      "text/plain": [
       "              NO2          CO          O3       PM2.5         SO2   AQI Value  \\\n",
       "count  365.000000  365.000000  365.000000  365.000000  365.000000  365.000000   \n",
       "mean    34.949008    0.506301    0.046087   13.626266   13.476947   63.747945   \n",
       "std     16.596962    0.294035    0.016503    4.748510   11.535875   28.919593   \n",
       "min      7.420000    0.176000    0.015120    4.560000    0.000000   25.000000   \n",
       "25%     22.260000    0.264000    0.034560   10.320000    4.900000   45.000000   \n",
       "50%     31.800000    0.440000    0.043200   13.051020    9.800000   56.000000   \n",
       "75%     44.520000    0.528000    0.054000   16.379592   18.900000   67.000000   \n",
       "max    111.571429    1.760000    0.096857   34.924490   72.612245  179.000000   \n",
       "\n",
       "             WIND        TEMP     PRESSURE          RH  \n",
       "count  365.000000  365.000000   365.000000  365.000000  \n",
       "mean     4.538818   68.747160  1016.835502   67.835502  \n",
       "std      1.903770   14.415286     5.656928   11.991668  \n",
       "min      1.204167   28.125000  1000.666667   24.458333  \n",
       "25%      3.008333   57.375000  1013.416667   62.416667  \n",
       "50%      4.145833   71.250000  1016.250000   69.041667  \n",
       "75%      5.716667   81.583333  1020.083333   75.500000  \n",
       "max     11.883333   89.125000  1038.208333   92.458333  "
      ]
     },
     "execution_count": 8,
     "metadata": {},
     "output_type": "execute_result"
    }
   ],
   "source": [
    "df = data.copy()\n",
    "#Removing spaces from dataset\n",
    "df = df.rename(columns = lambda x: x.strip())\n",
    "df['Date'] = pd.to_datetime(df[\"Date\"])\n",
    "\n",
    "df.describe()"
   ]
  },
  {
   "cell_type": "markdown",
   "id": "b301e006",
   "metadata": {},
   "source": [
    "### Correlation of features"
   ]
  },
  {
   "cell_type": "code",
   "execution_count": 15,
   "id": "5a24ca84",
   "metadata": {},
   "outputs": [
    {
     "data": {
      "text/plain": [
       "<AxesSubplot:>"
      ]
     },
     "execution_count": 15,
     "metadata": {},
     "output_type": "execute_result"
    },
    {
     "data": {
      "image/png": "[encoded data removed]",
      "text/plain": [
       "<Figure size 576x576 with 2 Axes>"
      ]
     },
     "metadata": {
      "needs_background": "light"
     },
     "output_type": "display_data"
    }
   ],
   "source": [
    "# correlation Matrix\n",
    "corr = df.corr()\n",
    "\n",
    "# plot heatmap\n",
    "plt.subplots(figsize=(8,8))\n",
    "colormap = sns.color_palette(\"RdPu\")\n",
    "sns.heatmap(corr, xticklabels=corr.columns, yticklabels=corr.columns,\n",
    "           annot = True, center =0, vmin =-1, cmap = colormap)"
   ]
  },
  {
   "cell_type": "code",
   "execution_count": 17,
   "id": "5ed009f6",
   "metadata": {},
   "outputs": [],
   "source": [
    "#Split Data\n",
    "# AQI is the output so it will be on y\n",
    "X = df.drop('AQI Value', axis = 1)\n",
    "y = df['AQI Value']"
   ]
  },
  {
   "cell_type": "code",
   "execution_count": 18,
   "id": "16b3bd01",
   "metadata": {},
   "outputs": [],
   "source": [
    "from sklearn.model_selection import train_test_split\n",
    "X_train, X_test, y_train, y_test = train_test_split(X, y, test_size=0.3)"
   ]
  },
  {
   "cell_type": "code",
   "execution_count": 19,
   "id": "8e8c33ef",
   "metadata": {},
   "outputs": [],
   "source": [
    "# Feature Selection\n",
    "# dropping date and time \n",
    "X_test = X_test.drop('Date', axis =1)\n",
    "X_train = X_train.drop(\"Date\", axis =1)\n",
    "X_train = X_train.drop(['RH', \"PRESSURE\"], axis=1)\n",
    "X_test = X_test.drop(['RH', \"PRESSURE\"], axis=1)"
   ]
  },
  {
   "cell_type": "code",
   "execution_count": 20,
   "id": "c4813388",
   "metadata": {},
   "outputs": [
    {
     "data": {
      "text/plain": [
       "LinearRegression()"
      ]
     },
     "execution_count": 20,
     "metadata": {},
     "output_type": "execute_result"
    }
   ],
   "source": [
    "#Importing Linear Regression Model\n",
    "from sklearn.linear_model import LinearRegression\n",
    "lr = LinearRegression()\n",
    "\n",
    "# Fitting the training dataset\n",
    "lr.fit(X_train, y_train)"
   ]
  },
  {
   "cell_type": "code",
   "execution_count": 21,
   "id": "66ede7cb",
   "metadata": {},
   "outputs": [
    {
     "name": "stdout",
     "output_type": "stream",
     "text": [
      "[ 1.33156703e-01 -1.09998655e+01  1.04613689e+03  2.44883769e+00\n",
      "  1.38217591e-01 -1.16243818e+00 -2.78574887e-02]\n"
     ]
    }
   ],
   "source": [
    "#Print the coeffiecient of each feature in trained model\n",
    "print(lr.coef_)"
   ]
  },
  {
   "cell_type": "code",
   "execution_count": 23,
   "id": "74775b89",
   "metadata": {},
   "outputs": [
    {
     "name": "stdout",
     "output_type": "stream",
     "text": [
      "-11.798415366757567\n"
     ]
    }
   ],
   "source": [
    "# Intercept on the \"AQI Value\" \n",
    "print(lr.intercept_)\n",
    "y_pred = lr.predict(X_test)\n",
    "error = pd.DataFrame({'Actual':y_test, 'Predicted':y_pred}, columns=\n",
    "                    ['Actual', 'Predicted'])\n"
   ]
  },
  {
   "cell_type": "code",
   "execution_count": 24,
   "id": "931b9251",
   "metadata": {},
   "outputs": [
    {
     "name": "stdout",
     "output_type": "stream",
     "text": [
      "     Actual   Predicted\n",
      "92       97  105.617288\n",
      "175      44   53.192081\n",
      "63       58   76.210379\n",
      "67       56   60.392136\n",
      "141      30   25.436801\n",
      "..      ...         ...\n",
      "354      60   64.111360\n",
      "227      53   65.757839\n",
      "237      81  116.103820\n",
      "352      54   55.027302\n",
      "56       52   54.009764\n",
      "\n",
      "[110 rows x 2 columns]\n"
     ]
    }
   ],
   "source": [
    "print(error)"
   ]
  },
  {
   "cell_type": "code",
   "execution_count": 26,
   "id": "7348203b",
   "metadata": {},
   "outputs": [
    {
     "data": {
      "text/plain": [
       "<matplotlib.collections.PathCollection at 0x6657658>"
      ]
     },
     "execution_count": 26,
     "metadata": {},
     "output_type": "execute_result"
    },
    {
     "data": {
      "image/png": "[encoded data removed]",
      "text/plain": [
       "<Figure size 432x288 with 1 Axes>"
      ]
     },
     "metadata": {
      "needs_background": "light"
     },
     "output_type": "display_data"
    }
   ],
   "source": [
    "plt.plot(y_test, y_test, 'r-')\n",
    "plt.scatter(y_test, y_pred, c='b')"
   ]
  },
  {
   "cell_type": "code",
   "execution_count": 27,
   "id": "d6135875",
   "metadata": {},
   "outputs": [],
   "source": [
    "#Training the model using trian daatset\n",
    "# Performace Metrix, MSE, MAE, RMSE and Rsquared"
   ]
  },
  {
   "cell_type": "code",
   "execution_count": 28,
   "id": "393bcac7",
   "metadata": {},
   "outputs": [
    {
     "name": "stdout",
     "output_type": "stream",
     "text": [
      "MAE = 11.63523557660938\n",
      "MSE = 271.8414887223958\n",
      "RMSE = 3.4110461117682624\n",
      "R_squared = 0.7371350453380403\n"
     ]
    }
   ],
   "source": [
    "from sklearn import metrics\n",
    "print('MAE = {}'.format(metrics.mean_absolute_error(y_test, y_pred)))\n",
    "print('MSE = {}'.format(metrics.mean_squared_error(y_test, y_pred)))\n",
    "print('RMSE = {}'.format(np.sqrt(metrics.mean_absolute_error(y_test, y_pred))))\n",
    "print('R_squared = {}'.format(metrics.r2_score(y_test, y_pred)))"
   ]
  },
  {
   "cell_type": "code",
   "execution_count": null,
   "id": "db050c49",
   "metadata": {},
   "outputs": [],
   "source": []
  }
 ],
 "metadata": {
  "kernelspec": {
   "display_name": "Python 3 (ipykernel)",
   "language": "python",
   "name": "python3"
  },
  "language_info": {
   "codemirror_mode": {
    "name": "ipython",
    "version": 3
   },
   "file_extension": ".py",
   "mimetype": "text/x-python",
   "name": "python",
   "nbconvert_exporter": "python",
   "pygments_lexer": "ipython3",
   "version": "3.8.3"
  }
 },
 "nbformat": 4,
 "nbformat_minor": 5
}
